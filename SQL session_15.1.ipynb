{
 "cells": [
  {
   "cell_type": "markdown",
   "id": "86e29d08",
   "metadata": {},
   "source": [
    "# SQlite"
   ]
  },
  {
   "cell_type": "code",
   "execution_count": 1,
   "id": "ea2579c7",
   "metadata": {},
   "outputs": [],
   "source": [
    "import sqlite3"
   ]
  },
  {
   "cell_type": "raw",
   "id": "8d40da04",
   "metadata": {},
   "source": [
    "Working with database using SQL ( Structured Query Language )\n",
    "\n",
    "1 Create a connection object.\n",
    "2 From the connection object, create a cursor object.\n",
    "3 Using the cursor object, call the execute method with create table query as the parameter."
   ]
  },
  {
   "cell_type": "markdown",
   "id": "ebd142d1",
   "metadata": {},
   "source": [
    "# Create Database"
   ]
  },
  {
   "cell_type": "code",
   "execution_count": 2,
   "id": "7c0ea811",
   "metadata": {},
   "outputs": [],
   "source": [
    "#student_databasewill be created in Jupiter notebook Home\n",
    "\n",
    "#First connection object\n",
    "db=sqlite3.connect(\"student_database.db\")"
   ]
  },
  {
   "cell_type": "raw",
   "id": "54ee17ef",
   "metadata": {},
   "source": [
    "Cursor\n",
    "A cursor in SQL is a temporary work area created in system memory when a SQL statement is executed.\n",
    "A SQL cursor is a set of rows together with a pointer that identifies a current row.\n",
    "It is a database object to retrieve data from a result set one row at a time."
   ]
  },
  {
   "cell_type": "code",
   "execution_count": 3,
   "id": "d02eb438",
   "metadata": {},
   "outputs": [],
   "source": [
    "# create cursor object from connection\n",
    "cur=db.cursor()"
   ]
  },
  {
   "cell_type": "markdown",
   "id": "f5408980",
   "metadata": {},
   "source": [
    "# Create table in student_database"
   ]
  },
  {
   "cell_type": "raw",
   "id": "61343721",
   "metadata": {},
   "source": [
    "SQL data types----\n",
    "integer  --numeric value\n",
    "real  ---  decimal values\n",
    "text  ---- character values\n",
    "char(20)  --character values\n"
   ]
  },
  {
   "cell_type": "code",
   "execution_count": 4,
   "id": "b66baf6d",
   "metadata": {},
   "outputs": [
    {
     "data": {
      "text/plain": [
       "<sqlite3.Cursor at 0x21ece4bed50>"
      ]
     },
     "execution_count": 4,
     "metadata": {},
     "output_type": "execute_result"
    }
   ],
   "source": [
    "cur.execute(\"create table student (id int primary key, name text,marks int)\")"
   ]
  },
  {
   "cell_type": "markdown",
   "id": "54737026",
   "metadata": {},
   "source": [
    "# Insert data in student table"
   ]
  },
  {
   "cell_type": "code",
   "execution_count": 5,
   "id": "2d06dba6",
   "metadata": {},
   "outputs": [],
   "source": [
    "cur.execute(\"insert into student(id,name,marks) values(1,'john',90)\")\n",
    "db.commit()"
   ]
  },
  {
   "cell_type": "code",
   "execution_count": 6,
   "id": "bc86744c",
   "metadata": {},
   "outputs": [
    {
     "name": "stdout",
     "output_type": "stream",
     "text": [
      "1 Record(s) inserted\n"
     ]
    }
   ],
   "source": [
    "print(cur.rowcount,\"Record(s) inserted\")"
   ]
  },
  {
   "cell_type": "code",
   "execution_count": 7,
   "id": "760c5bb0",
   "metadata": {},
   "outputs": [],
   "source": [
    "cur.execute(\"insert into student(id,name,marks) values(2,'teena',100)\")\n",
    "db.commit()"
   ]
  },
  {
   "cell_type": "code",
   "execution_count": 9,
   "id": "5de68398",
   "metadata": {},
   "outputs": [
    {
     "name": "stdout",
     "output_type": "stream",
     "text": [
      "(1, 'john', 90)\n",
      "(2, 'teena', 100)\n"
     ]
    }
   ],
   "source": [
    "results=cur.execute(\"select * from student\")\n",
    "\n",
    "for row in results:\n",
    "    print(row)\n"
   ]
  },
  {
   "cell_type": "code",
   "execution_count": 10,
   "id": "4ba8ba83",
   "metadata": {},
   "outputs": [],
   "source": [
    "cur.execute(\"insert into student(id,name,marks) values(3,'andrew',70)\")\n",
    "db.commit()"
   ]
  },
  {
   "cell_type": "code",
   "execution_count": 11,
   "id": "b1c56d9f",
   "metadata": {},
   "outputs": [
    {
     "name": "stdout",
     "output_type": "stream",
     "text": [
      "(1, 'john', 90)\n",
      "(2, 'teena', 100)\n",
      "(3, 'andrew', 70)\n"
     ]
    }
   ],
   "source": [
    "results=cur.execute(\"select * from student\")\n",
    "\n",
    "for row in results:\n",
    "    print(row)"
   ]
  },
  {
   "cell_type": "code",
   "execution_count": 12,
   "id": "1b01a44e",
   "metadata": {},
   "outputs": [],
   "source": [
    "cur.execute(\"insert into student(id,name,marks) values(4,'charu',75)\")\n",
    "db.commit()"
   ]
  },
  {
   "cell_type": "code",
   "execution_count": 13,
   "id": "a156051c",
   "metadata": {},
   "outputs": [],
   "source": [
    "cur.execute(\"insert into student(id,name,marks) values(5,'lavi',85)\")\n",
    "db.commit()"
   ]
  },
  {
   "cell_type": "code",
   "execution_count": 14,
   "id": "e2020267",
   "metadata": {},
   "outputs": [],
   "source": [
    "cur.execute(\"insert into student(id,name,marks) values(6,'honey',95)\")\n",
    "db.commit()"
   ]
  },
  {
   "cell_type": "code",
   "execution_count": 15,
   "id": "a620ebfd",
   "metadata": {},
   "outputs": [],
   "source": [
    "results = cur.execute(\"select * from student\")\n"
   ]
  },
  {
   "cell_type": "code",
   "execution_count": 16,
   "id": "8b5a6593",
   "metadata": {},
   "outputs": [
    {
     "name": "stdout",
     "output_type": "stream",
     "text": [
      "(1, 'john', 90)\n",
      "(2, 'teena', 100)\n",
      "(3, 'andrew', 70)\n",
      "(4, 'charu', 75)\n",
      "(5, 'lavi', 85)\n",
      "(6, 'honey', 95)\n"
     ]
    }
   ],
   "source": [
    "for row in results:\n",
    "    print(row)"
   ]
  },
  {
   "cell_type": "code",
   "execution_count": 17,
   "id": "4c225aaa",
   "metadata": {},
   "outputs": [
    {
     "name": "stdout",
     "output_type": "stream",
     "text": [
      "2 Record(s) inserted\n"
     ]
    }
   ],
   "source": [
    "#multiple record insertion\n",
    "\n",
    "cur.execute(\"insert into student values (7,'kiara',100),(8,'lara',120)\")\n",
    "db.commit()\n",
    "\n",
    "#count of records inserted\n",
    "print(cur.rowcount,\"Record(s) inserted\")"
   ]
  },
  {
   "cell_type": "code",
   "execution_count": 18,
   "id": "4a916f56",
   "metadata": {},
   "outputs": [
    {
     "name": "stdout",
     "output_type": "stream",
     "text": [
      "(1, 'john', 90)\n",
      "(2, 'teena', 100)\n",
      "(3, 'andrew', 70)\n",
      "(4, 'charu', 75)\n",
      "(5, 'lavi', 85)\n",
      "(6, 'honey', 95)\n",
      "(7, 'kiara', 100)\n",
      "(8, 'lara', 120)\n"
     ]
    }
   ],
   "source": [
    "results=cur.execute(\"select * from student\")\n",
    "\n",
    "for row in results:\n",
    "    print(row)"
   ]
  },
  {
   "cell_type": "markdown",
   "id": "c658ff6b",
   "metadata": {},
   "source": [
    "Database will be created in the given location"
   ]
  },
  {
   "cell_type": "code",
   "execution_count": 7,
   "id": "55a1e57f",
   "metadata": {},
   "outputs": [],
   "source": [
    "db1=sqlite3.connect(\"E:/MySQLite_database/studentdb.db\")"
   ]
  },
  {
   "cell_type": "code",
   "execution_count": 7,
   "id": "37f65f05",
   "metadata": {},
   "outputs": [],
   "source": [
    "cur1=db1.cursor()"
   ]
  },
  {
   "cell_type": "code",
   "execution_count": 8,
   "id": "d7504250",
   "metadata": {},
   "outputs": [
    {
     "data": {
      "text/plain": [
       "<sqlite3.Cursor at 0x272033cec70>"
      ]
     },
     "execution_count": 8,
     "metadata": {},
     "output_type": "execute_result"
    }
   ],
   "source": [
    "cur1.execute(\"create table employee(id int,name text,age int)\")"
   ]
  },
  {
   "cell_type": "code",
   "execution_count": 9,
   "id": "ea1accab",
   "metadata": {},
   "outputs": [],
   "source": [
    "cur1.execute(\"insert into employee values(1,'melina',32)\")\n",
    "db.commit()"
   ]
  },
  {
   "cell_type": "code",
   "execution_count": 10,
   "id": "597770a2",
   "metadata": {},
   "outputs": [
    {
     "name": "stdout",
     "output_type": "stream",
     "text": [
      "1 Record(s) inserted\n"
     ]
    }
   ],
   "source": [
    "print(cur1.rowcount,\"Record(s) inserted\")"
   ]
  },
  {
   "cell_type": "code",
   "execution_count": 12,
   "id": "5c0f0d3e",
   "metadata": {},
   "outputs": [],
   "source": [
    "results=cur1.execute(\"select * from employee\")\n",
    "    "
   ]
  },
  {
   "cell_type": "code",
   "execution_count": 13,
   "id": "4950c042",
   "metadata": {},
   "outputs": [
    {
     "name": "stdout",
     "output_type": "stream",
     "text": [
      "(1, 'melina', 32)\n"
     ]
    }
   ],
   "source": [
    "for row in results:\n",
    "    print(row)"
   ]
  },
  {
   "cell_type": "markdown",
   "id": "195c4c38",
   "metadata": {},
   "source": [
    "Working with original database------student database"
   ]
  },
  {
   "cell_type": "markdown",
   "id": "e5c6a933",
   "metadata": {},
   "source": [
    "# Accessing data stord in SQLite using Python"
   ]
  },
  {
   "cell_type": "code",
   "execution_count": 4,
   "id": "cb30db02",
   "metadata": {},
   "outputs": [],
   "source": [
    "results = cur.execute(\"select * from student\")"
   ]
  },
  {
   "cell_type": "code",
   "execution_count": 5,
   "id": "ebb0a521",
   "metadata": {},
   "outputs": [
    {
     "name": "stdout",
     "output_type": "stream",
     "text": [
      "(1, 'john', 90)\n",
      "(2, 'teena', 100)\n",
      "(3, 'andrew', 70)\n",
      "(4, 'charu', 75)\n",
      "(5, 'lavi', 85)\n",
      "(6, 'honey', 95)\n",
      "(7, 'kiara', 100)\n",
      "(8, 'lara', 120)\n"
     ]
    }
   ],
   "source": [
    "for row in results:\n",
    "    print(row)"
   ]
  },
  {
   "cell_type": "code",
   "execution_count": 6,
   "id": "5688abc9",
   "metadata": {},
   "outputs": [],
   "source": [
    "cur.execute(\"insert into student values (9,'Vikas',120)\")\n",
    "db.commit()"
   ]
  },
  {
   "cell_type": "code",
   "execution_count": 7,
   "id": "d09fbb8f",
   "metadata": {},
   "outputs": [],
   "source": [
    "results = cur.execute(\"select * from student\")"
   ]
  },
  {
   "cell_type": "code",
   "execution_count": 8,
   "id": "19839163",
   "metadata": {},
   "outputs": [
    {
     "name": "stdout",
     "output_type": "stream",
     "text": [
      "(1, 'john', 90)\n",
      "(2, 'teena', 100)\n",
      "(3, 'andrew', 70)\n",
      "(4, 'charu', 75)\n",
      "(5, 'lavi', 85)\n",
      "(6, 'honey', 95)\n",
      "(7, 'kiara', 100)\n",
      "(8, 'lara', 120)\n",
      "(9, 'Vikas', 120)\n"
     ]
    }
   ],
   "source": [
    "for row in results:\n",
    "    print(row)"
   ]
  },
  {
   "cell_type": "code",
   "execution_count": 5,
   "id": "a8d8b513",
   "metadata": {},
   "outputs": [
    {
     "name": "stdout",
     "output_type": "stream",
     "text": [
      "(1, 'john')\n",
      "(2, 'teena')\n",
      "(3, 'andrew')\n",
      "(4, 'charu')\n",
      "(5, 'lavi')\n",
      "(6, 'honey')\n",
      "(7, 'kiara')\n",
      "(8, 'lara')\n",
      "(9, 'Vikas')\n"
     ]
    }
   ],
   "source": [
    "results = cur.execute(\"select id,name from student\")\n",
    "for i in results:\n",
    "    print(i)"
   ]
  },
  {
   "cell_type": "code",
   "execution_count": 6,
   "id": "6411aa0a",
   "metadata": {},
   "outputs": [
    {
     "name": "stdout",
     "output_type": "stream",
     "text": [
      "(1, 90)\n",
      "(2, 100)\n",
      "(3, 70)\n",
      "(4, 75)\n",
      "(5, 85)\n",
      "(6, 95)\n",
      "(7, 100)\n",
      "(8, 120)\n",
      "(9, 120)\n"
     ]
    }
   ],
   "source": [
    "results = cur.execute(\"select id,marks from student\")\n",
    "for i in results:\n",
    "    print(i)"
   ]
  },
  {
   "cell_type": "code",
   "execution_count": 7,
   "id": "5a1a42c0",
   "metadata": {},
   "outputs": [
    {
     "name": "stdout",
     "output_type": "stream",
     "text": [
      "(1, 'john', 90)\n",
      "(2, 'teena', 100)\n",
      "(3, 'andrew', 70)\n",
      "(4, 'charu', 75)\n",
      "(5, 'lavi', 85)\n",
      "(6, 'honey', 95)\n",
      "(7, 'kiara', 100)\n",
      "(8, 'lara', 120)\n",
      "(9, 'Vikas', 120)\n"
     ]
    }
   ],
   "source": [
    "results =cur.execute(\"select * from student\")\n",
    "for i in results:\n",
    "    print(i)"
   ]
  },
  {
   "cell_type": "code",
   "execution_count": 9,
   "id": "4a93de2c",
   "metadata": {},
   "outputs": [
    {
     "name": "stdout",
     "output_type": "stream",
     "text": [
      "(1, 'john', 90)\n"
     ]
    }
   ],
   "source": [
    "results = cur.execute(\"select * from student where id=1\")\n",
    "for i in results:\n",
    "    print(i)"
   ]
  },
  {
   "cell_type": "code",
   "execution_count": 10,
   "id": "d1a53542",
   "metadata": {},
   "outputs": [],
   "source": [
    "results = cur.execute(\"select * from student where id=2\")"
   ]
  },
  {
   "cell_type": "code",
   "execution_count": 11,
   "id": "7d6e33bd",
   "metadata": {},
   "outputs": [
    {
     "name": "stdout",
     "output_type": "stream",
     "text": [
      "(2, 'teena', 100)\n"
     ]
    }
   ],
   "source": [
    "for i in results:\n",
    "    print(i)"
   ]
  },
  {
   "cell_type": "code",
   "execution_count": 12,
   "id": "c6caf96a",
   "metadata": {},
   "outputs": [
    {
     "name": "stdout",
     "output_type": "stream",
     "text": [
      "(5, 'lavi', 85)\n"
     ]
    }
   ],
   "source": [
    "results = cur.execute(\"select * from student where id=5\")\n",
    "for i in results:\n",
    "    print(i)"
   ]
  },
  {
   "cell_type": "code",
   "execution_count": 13,
   "id": "d9339f93",
   "metadata": {},
   "outputs": [
    {
     "name": "stdout",
     "output_type": "stream",
     "text": [
      "(1, 'john', 90)\n",
      "(2, 'teena', 100)\n",
      "(3, 'andrew', 70)\n"
     ]
    }
   ],
   "source": [
    "results = cur.execute(\"select * from student limit 3\")\n",
    "for i in results:\n",
    "    print(i)"
   ]
  },
  {
   "cell_type": "code",
   "execution_count": 14,
   "id": "7a80bef3",
   "metadata": {},
   "outputs": [
    {
     "name": "stdout",
     "output_type": "stream",
     "text": [
      "('teena',)\n"
     ]
    }
   ],
   "source": [
    "results = cur.execute(\"select name from student where id=2\")\n",
    "for i in results:\n",
    "    print(i)"
   ]
  },
  {
   "cell_type": "code",
   "execution_count": 15,
   "id": "c0d80e03",
   "metadata": {},
   "outputs": [
    {
     "name": "stdout",
     "output_type": "stream",
     "text": [
      "(100,)\n"
     ]
    }
   ],
   "source": [
    "results = cur.execute(\"select marks from student where id=2\")\n",
    "for i in results:\n",
    "    print(i)\n"
   ]
  },
  {
   "cell_type": "code",
   "execution_count": 16,
   "id": "2b061172",
   "metadata": {},
   "outputs": [
    {
     "name": "stdout",
     "output_type": "stream",
     "text": [
      "(1, 'john', 90)\n"
     ]
    }
   ],
   "source": [
    "results = cur.execute(\"select * from student where name='john'\")\n",
    "for i in results:\n",
    "    print(i)"
   ]
  },
  {
   "cell_type": "code",
   "execution_count": 17,
   "id": "274e965d",
   "metadata": {},
   "outputs": [
    {
     "name": "stdout",
     "output_type": "stream",
     "text": [
      "(90,)\n"
     ]
    }
   ],
   "source": [
    "results = cur.execute(\"select marks from student where name='john'\")\n",
    "for i in results:\n",
    "    print(i)"
   ]
  },
  {
   "cell_type": "code",
   "execution_count": 18,
   "id": "ab52beaf",
   "metadata": {},
   "outputs": [
    {
     "name": "stdout",
     "output_type": "stream",
     "text": [
      "(3, 'andrew', 70)\n",
      "(4, 'charu', 75)\n",
      "(5, 'lavi', 85)\n"
     ]
    }
   ],
   "source": [
    "results = cur.execute(\"select * from student where marks>60 and marks<90\")\n",
    "for i in results:\n",
    "    print(i)"
   ]
  },
  {
   "cell_type": "code",
   "execution_count": 7,
   "id": "f1be880d",
   "metadata": {},
   "outputs": [
    {
     "name": "stdout",
     "output_type": "stream",
     "text": [
      "(2, 'teena', 100)\n",
      "(6, 'honey', 95)\n",
      "(7, 'kiara', 100)\n"
     ]
    }
   ],
   "source": [
    "results = cur.execute(\"select * from student where marks>90 and marks<120\")\n",
    "for i in results:\n",
    "    print(i)"
   ]
  },
  {
   "cell_type": "code",
   "execution_count": 8,
   "id": "b627030c",
   "metadata": {},
   "outputs": [
    {
     "name": "stdout",
     "output_type": "stream",
     "text": [
      "(1, 'john', 90)\n",
      "(2, 'teena', 100)\n",
      "(3, 'andrew', 70)\n",
      "(4, 'charu', 75)\n",
      "(5, 'lavi', 85)\n",
      "(6, 'honey', 95)\n",
      "(7, 'kiara', 100)\n",
      "(8, 'lara', 120)\n",
      "(9, 'Vikas', 120)\n"
     ]
    }
   ],
   "source": [
    "results = cur.execute(\"select * from student\")\n",
    "for i in results:\n",
    "    print(i)"
   ]
  },
  {
   "cell_type": "code",
   "execution_count": 9,
   "id": "04f1212f",
   "metadata": {},
   "outputs": [
    {
     "data": {
      "text/plain": [
       "[(1, 'john', 90),\n",
       " (2, 'teena', 100),\n",
       " (3, 'andrew', 70),\n",
       " (4, 'charu', 75),\n",
       " (5, 'lavi', 85),\n",
       " (6, 'honey', 95),\n",
       " (7, 'kiara', 100),\n",
       " (8, 'lara', 120),\n",
       " (9, 'Vikas', 120)]"
      ]
     },
     "execution_count": 9,
     "metadata": {},
     "output_type": "execute_result"
    }
   ],
   "source": [
    "#fetchall will display all rows\n",
    "\n",
    "results=cur.execute(\"select * from student\")\n",
    "results.fetchall()"
   ]
  },
  {
   "cell_type": "markdown",
   "id": "920c2663",
   "metadata": {},
   "source": [
    "order by clause"
   ]
  },
  {
   "cell_type": "code",
   "execution_count": 11,
   "id": "ef1dea87",
   "metadata": {},
   "outputs": [
    {
     "name": "stdout",
     "output_type": "stream",
     "text": [
      "(9, 'Vikas', 120)\n",
      "(3, 'andrew', 70)\n",
      "(4, 'charu', 75)\n",
      "(6, 'honey', 95)\n",
      "(1, 'john', 90)\n",
      "(7, 'kiara', 100)\n",
      "(8, 'lara', 120)\n",
      "(5, 'lavi', 85)\n",
      "(2, 'teena', 100)\n"
     ]
    }
   ],
   "source": [
    "results=cur.execute(\"select * from student order by name asc\")\n",
    "for i in results:\n",
    "    print(i)"
   ]
  },
  {
   "cell_type": "code",
   "execution_count": 12,
   "id": "cf1c8295",
   "metadata": {},
   "outputs": [
    {
     "name": "stdout",
     "output_type": "stream",
     "text": [
      "(2, 'teena', 100)\n",
      "(5, 'lavi', 85)\n",
      "(8, 'lara', 120)\n",
      "(7, 'kiara', 100)\n",
      "(1, 'john', 90)\n",
      "(6, 'honey', 95)\n",
      "(4, 'charu', 75)\n",
      "(3, 'andrew', 70)\n",
      "(9, 'Vikas', 120)\n"
     ]
    }
   ],
   "source": [
    "results=cur.execute(\"select * from student order by name desc\")\n",
    "for i in results:\n",
    "    print(i)"
   ]
  },
  {
   "cell_type": "markdown",
   "id": "c7795c71",
   "metadata": {},
   "source": [
    "AND operator"
   ]
  },
  {
   "cell_type": "code",
   "execution_count": 13,
   "id": "cdb4a7d5",
   "metadata": {},
   "outputs": [
    {
     "name": "stdout",
     "output_type": "stream",
     "text": [
      "(5, 'lavi', 85)\n"
     ]
    }
   ],
   "source": [
    "results=cur.execute(\"select * from student where name='lavi' and id=5\")\n",
    "for i in results:\n",
    "    print(i)"
   ]
  },
  {
   "cell_type": "code",
   "execution_count": 14,
   "id": "813cfa2d",
   "metadata": {},
   "outputs": [],
   "source": [
    "results= cur.execute(\"SELECT * from student where id=2 and marks=120\")\n",
    "for i in results:\n",
    "    print(i)"
   ]
  },
  {
   "cell_type": "markdown",
   "id": "4a93b939",
   "metadata": {},
   "source": [
    "OR operator"
   ]
  },
  {
   "cell_type": "code",
   "execution_count": 15,
   "id": "b93518e1",
   "metadata": {},
   "outputs": [
    {
     "name": "stdout",
     "output_type": "stream",
     "text": [
      "(5, 'lavi', 85)\n",
      "(8, 'lara', 120)\n",
      "(9, 'Vikas', 120)\n"
     ]
    }
   ],
   "source": [
    "results=cur.execute(\"select * from student where id=5 or marks=120\")\n",
    "for i in results:\n",
    "    print(i)"
   ]
  },
  {
   "cell_type": "code",
   "execution_count": 16,
   "id": "0cd4f336",
   "metadata": {},
   "outputs": [
    {
     "name": "stdout",
     "output_type": "stream",
     "text": [
      "(2, 'teena', 100)\n",
      "(7, 'kiara', 100)\n",
      "(9, 'Vikas', 120)\n"
     ]
    }
   ],
   "source": [
    "results=cur.execute(\"select * from student where id=9 or marks=100\")\n",
    "for i in results:\n",
    "    print(i)"
   ]
  },
  {
   "cell_type": "code",
   "execution_count": 17,
   "id": "70df446a",
   "metadata": {},
   "outputs": [
    {
     "data": {
      "text/plain": [
       "[(4, 'charu', 75), (8, 'lara', 120)]"
      ]
     },
     "execution_count": 17,
     "metadata": {},
     "output_type": "execute_result"
    }
   ],
   "source": [
    "results=cur.execute(\"select * from student where id=8 or marks=75\")\n",
    "results.fetchall()"
   ]
  },
  {
   "cell_type": "raw",
   "id": "0a65d784",
   "metadata": {},
   "source": [
    "Aggregate functions\n",
    "MIN----find minimum\n",
    "MAX----find maximum\n",
    "AVG----find average\n",
    "SUM----find sum\n",
    "COUNT---count the number of rows"
   ]
  },
  {
   "cell_type": "code",
   "execution_count": 18,
   "id": "cab4e1db",
   "metadata": {},
   "outputs": [
    {
     "name": "stdout",
     "output_type": "stream",
     "text": [
      "(70,)\n"
     ]
    }
   ],
   "source": [
    "#find minimum marks\n",
    "\n",
    "results=cur.execute(\"select min(marks) from student\")\n",
    "for i in results:\n",
    "    print(i)"
   ]
  },
  {
   "cell_type": "code",
   "execution_count": 19,
   "id": "0d823f7b",
   "metadata": {},
   "outputs": [
    {
     "name": "stdout",
     "output_type": "stream",
     "text": [
      "(120,)\n"
     ]
    }
   ],
   "source": [
    "#find maximum marks\n",
    "\n",
    "results=cur.execute(\"select max(marks) from student\")\n",
    "for i in results:\n",
    "    print(i)"
   ]
  },
  {
   "cell_type": "code",
   "execution_count": 20,
   "id": "5873c61a",
   "metadata": {},
   "outputs": [
    {
     "data": {
      "text/plain": [
       "(95.0,)"
      ]
     },
     "execution_count": 20,
     "metadata": {},
     "output_type": "execute_result"
    }
   ],
   "source": [
    "results=cur.execute(\"select avg(marks) from student\")\n",
    "results.fetchone()"
   ]
  },
  {
   "cell_type": "code",
   "execution_count": 21,
   "id": "865cb22f",
   "metadata": {},
   "outputs": [
    {
     "data": {
      "text/plain": [
       "(855,)"
      ]
     },
     "execution_count": 21,
     "metadata": {},
     "output_type": "execute_result"
    }
   ],
   "source": [
    "results=cur.execute(\"select sum(marks) from student\")\n",
    "results.fetchone()"
   ]
  },
  {
   "cell_type": "code",
   "execution_count": 23,
   "id": "a8d440b3",
   "metadata": {},
   "outputs": [
    {
     "data": {
      "text/plain": [
       "(9,)"
      ]
     },
     "execution_count": 23,
     "metadata": {},
     "output_type": "execute_result"
    }
   ],
   "source": [
    "results=cur.execute(\"select count(id) from student\")\n",
    "results.fetchone()"
   ]
  },
  {
   "cell_type": "code",
   "execution_count": 25,
   "id": "4f5878d9",
   "metadata": {},
   "outputs": [
    {
     "name": "stdout",
     "output_type": "stream",
     "text": [
      "(1, 'john', 90)\n",
      "(2, 'teena', 100)\n",
      "(4, 'charu', 75)\n",
      "(5, 'lavi', 85)\n",
      "(6, 'honey', 95)\n",
      "(7, 'kiara', 100)\n",
      "(8, 'lara', 120)\n",
      "(9, 'Vikas', 120)\n"
     ]
    }
   ],
   "source": [
    "results=cur.execute(\"select * from student where marks between 75 and 120\")\n",
    "for i in results:\n",
    "    print(i)"
   ]
  },
  {
   "cell_type": "code",
   "execution_count": 26,
   "id": "d256dc18",
   "metadata": {},
   "outputs": [],
   "source": [
    "results=cur.execute(\"select * from student where marks is null\")\n",
    "for i in results:\n",
    "    print(i)"
   ]
  },
  {
   "cell_type": "code",
   "execution_count": 27,
   "id": "11c57ac9",
   "metadata": {},
   "outputs": [
    {
     "name": "stdout",
     "output_type": "stream",
     "text": [
      "(1, 'john', 90)\n",
      "(2, 'teena', 100)\n",
      "(3, 'andrew', 70)\n",
      "(4, 'charu', 75)\n",
      "(5, 'lavi', 85)\n",
      "(6, 'honey', 95)\n",
      "(7, 'kiara', 100)\n",
      "(8, 'lara', 120)\n",
      "(9, 'Vikas', 120)\n"
     ]
    }
   ],
   "source": [
    "results=cur.execute('select * from student where marks is not null')\n",
    "for i in results:\n",
    "    print(i)"
   ]
  },
  {
   "cell_type": "code",
   "execution_count": 4,
   "id": "4ce98470",
   "metadata": {},
   "outputs": [
    {
     "data": {
      "text/plain": [
       "[(1, 'john', 90),\n",
       " (2, 'teena', 100),\n",
       " (3, 'andrew', 70),\n",
       " (4, 'charu', 75),\n",
       " (5, 'lavi', 85),\n",
       " (6, 'honey', 95),\n",
       " (7, 'kiara', 100),\n",
       " (8, 'lara', 120),\n",
       " (9, 'Vikas', 120)]"
      ]
     },
     "execution_count": 4,
     "metadata": {},
     "output_type": "execute_result"
    }
   ],
   "source": [
    "results = cur.execute(\"select * from student\")\n",
    "results.fetchall()"
   ]
  },
  {
   "cell_type": "raw",
   "id": "611d202d",
   "metadata": {},
   "source": [
    "LIKE Operators"
   ]
  },
  {
   "cell_type": "code",
   "execution_count": null,
   "id": "cc749b84",
   "metadata": {},
   "outputs": [],
   "source": []
  }
 ],
 "metadata": {
  "kernelspec": {
   "display_name": "Python 3 (ipykernel)",
   "language": "python",
   "name": "python3"
  },
  "language_info": {
   "codemirror_mode": {
    "name": "ipython",
    "version": 3
   },
   "file_extension": ".py",
   "mimetype": "text/x-python",
   "name": "python",
   "nbconvert_exporter": "python",
   "pygments_lexer": "ipython3",
   "version": "3.9.7"
  }
 },
 "nbformat": 4,
 "nbformat_minor": 5
}
